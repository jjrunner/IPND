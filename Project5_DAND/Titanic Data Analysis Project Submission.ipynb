{
 "cells": [
  {
   "cell_type": "markdown",
   "metadata": {},
   "source": [
    "### Titanic Data Analysis\n",
    "\n",
    "In this project, we will be analyzing data associated with the tragic event of the sinking Titanic.  In particular, we will be interested in finding trends amongst the passengers who survived, and how they differed from the passengers who did not survive.\n",
    "\n",
    "To begin the project, let's import a few libraries, as well as reading in the dataset to see what we are working with!"
   ]
  },
  {
   "cell_type": "code",
   "execution_count": 1,
   "metadata": {
    "collapsed": true
   },
   "outputs": [],
   "source": [
    "import pandas as pd\n",
    "import numpy as np\n",
    "import matplotlib.pyplot as plt\n",
    "import seaborn as sb\n",
    "%matplotlib inline"
   ]
  },
  {
   "cell_type": "code",
   "execution_count": 2,
   "metadata": {
    "collapsed": true
   },
   "outputs": [],
   "source": [
    "df = pd.read_csv('titanic_data.csv')"
   ]
  },
  {
   "cell_type": "markdown",
   "metadata": {},
   "source": [
    "It looks like the data read in okay.  Let's take a look at some of the characteristics of the data: \n",
    "\n",
    "1. Head, Tail, Rows, Columns\n",
    "2. We want to make sure the column names are clean to work with\n",
    "3. See if there are any missing data values or strange points we are working with that we might want to alter or remove."
   ]
  },
  {
   "cell_type": "code",
   "execution_count": 3,
   "metadata": {},
   "outputs": [
    {
     "data": {
      "text/html": [
       "<div>\n",
       "<style>\n",
       "    .dataframe thead tr:only-child th {\n",
       "        text-align: right;\n",
       "    }\n",
       "\n",
       "    .dataframe thead th {\n",
       "        text-align: left;\n",
       "    }\n",
       "\n",
       "    .dataframe tbody tr th {\n",
       "        vertical-align: top;\n",
       "    }\n",
       "</style>\n",
       "<table border=\"1\" class=\"dataframe\">\n",
       "  <thead>\n",
       "    <tr style=\"text-align: right;\">\n",
       "      <th></th>\n",
       "      <th>PassengerId</th>\n",
       "      <th>Survived</th>\n",
       "      <th>Pclass</th>\n",
       "      <th>Name</th>\n",
       "      <th>Sex</th>\n",
       "      <th>Age</th>\n",
       "      <th>SibSp</th>\n",
       "      <th>Parch</th>\n",
       "      <th>Ticket</th>\n",
       "      <th>Fare</th>\n",
       "      <th>Cabin</th>\n",
       "      <th>Embarked</th>\n",
       "    </tr>\n",
       "  </thead>\n",
       "  <tbody>\n",
       "    <tr>\n",
       "      <th>0</th>\n",
       "      <td>1</td>\n",
       "      <td>0</td>\n",
       "      <td>3</td>\n",
       "      <td>Braund, Mr. Owen Harris</td>\n",
       "      <td>male</td>\n",
       "      <td>22.0</td>\n",
       "      <td>1</td>\n",
       "      <td>0</td>\n",
       "      <td>A/5 21171</td>\n",
       "      <td>7.2500</td>\n",
       "      <td>NaN</td>\n",
       "      <td>S</td>\n",
       "    </tr>\n",
       "    <tr>\n",
       "      <th>1</th>\n",
       "      <td>2</td>\n",
       "      <td>1</td>\n",
       "      <td>1</td>\n",
       "      <td>Cumings, Mrs. John Bradley (Florence Briggs Th...</td>\n",
       "      <td>female</td>\n",
       "      <td>38.0</td>\n",
       "      <td>1</td>\n",
       "      <td>0</td>\n",
       "      <td>PC 17599</td>\n",
       "      <td>71.2833</td>\n",
       "      <td>C85</td>\n",
       "      <td>C</td>\n",
       "    </tr>\n",
       "    <tr>\n",
       "      <th>2</th>\n",
       "      <td>3</td>\n",
       "      <td>1</td>\n",
       "      <td>3</td>\n",
       "      <td>Heikkinen, Miss. Laina</td>\n",
       "      <td>female</td>\n",
       "      <td>26.0</td>\n",
       "      <td>0</td>\n",
       "      <td>0</td>\n",
       "      <td>STON/O2. 3101282</td>\n",
       "      <td>7.9250</td>\n",
       "      <td>NaN</td>\n",
       "      <td>S</td>\n",
       "    </tr>\n",
       "    <tr>\n",
       "      <th>3</th>\n",
       "      <td>4</td>\n",
       "      <td>1</td>\n",
       "      <td>1</td>\n",
       "      <td>Futrelle, Mrs. Jacques Heath (Lily May Peel)</td>\n",
       "      <td>female</td>\n",
       "      <td>35.0</td>\n",
       "      <td>1</td>\n",
       "      <td>0</td>\n",
       "      <td>113803</td>\n",
       "      <td>53.1000</td>\n",
       "      <td>C123</td>\n",
       "      <td>S</td>\n",
       "    </tr>\n",
       "    <tr>\n",
       "      <th>4</th>\n",
       "      <td>5</td>\n",
       "      <td>0</td>\n",
       "      <td>3</td>\n",
       "      <td>Allen, Mr. William Henry</td>\n",
       "      <td>male</td>\n",
       "      <td>35.0</td>\n",
       "      <td>0</td>\n",
       "      <td>0</td>\n",
       "      <td>373450</td>\n",
       "      <td>8.0500</td>\n",
       "      <td>NaN</td>\n",
       "      <td>S</td>\n",
       "    </tr>\n",
       "  </tbody>\n",
       "</table>\n",
       "</div>"
      ],
      "text/plain": [
       "   PassengerId  Survived  Pclass  \\\n",
       "0            1         0       3   \n",
       "1            2         1       1   \n",
       "2            3         1       3   \n",
       "3            4         1       1   \n",
       "4            5         0       3   \n",
       "\n",
       "                                                Name     Sex   Age  SibSp  \\\n",
       "0                            Braund, Mr. Owen Harris    male  22.0      1   \n",
       "1  Cumings, Mrs. John Bradley (Florence Briggs Th...  female  38.0      1   \n",
       "2                             Heikkinen, Miss. Laina  female  26.0      0   \n",
       "3       Futrelle, Mrs. Jacques Heath (Lily May Peel)  female  35.0      1   \n",
       "4                           Allen, Mr. William Henry    male  35.0      0   \n",
       "\n",
       "   Parch            Ticket     Fare Cabin Embarked  \n",
       "0      0         A/5 21171   7.2500   NaN        S  \n",
       "1      0          PC 17599  71.2833   C85        C  \n",
       "2      0  STON/O2. 3101282   7.9250   NaN        S  \n",
       "3      0            113803  53.1000  C123        S  \n",
       "4      0            373450   8.0500   NaN        S  "
      ]
     },
     "execution_count": 3,
     "metadata": {},
     "output_type": "execute_result"
    }
   ],
   "source": [
    "df.head() #first look - it is pretty clean looking"
   ]
  },
  {
   "cell_type": "markdown",
   "metadata": {},
   "source": [
    "Here we can see that it looks like we have 12 variables:\n",
    "\n",
    "\n",
    "| **Variable**  | **Description**  |\n",
    "|---|---|\n",
    "| `PassengerId`  |  a unique id for each passenger  | \n",
    "| `Survived`  | 1 if a passenger survived and a 0 if they did not survive  | \n",
    "|  `Pclass` |  the class of seating the passenger was sitting in (in the header we can see 1 and 3, but we can look into this more) | \n",
    "| `Name`  |  the name of the passenger (we could try to parse this, but that might be unnecessary to gain any true insight into survival) | \n",
    "| `Sex`  |  the gender of the passenger  | \n",
    "| `Age`  |  the age of the passenger  | \n",
    "| `SibSp`  |  number of siblings and spouses aboard  | \n",
    "| `Parch`  |  number of parents/children aboard  | \n",
    "| `Ticket`  |  ticket number (again, I am not sure the potential advantages of parsing this)  | \n",
    "| `Fare`  |  how much was paid for the ticket  | \n",
    "| `Cabin`  |  looks like a cabin room number (some NaN's here, but I am not sure we want to use this anyway)  | \n",
    " |`Embarked`| where the passenger has embarked to/from (looks like there are three possibilities based on some Kaggle docs: C, Q, S)|\n",
    " \n",
    " Parsing this table down to the variables we might spend the most time looking at, I imagine the 7 variables we will spend time looking at being the following:\n",
    " \n",
    " \n",
    "| **Variable**  | **Description**  |\n",
    "|---|---|\n",
    "| `Survived`  | 1 if a passenger survived and a 0 if they did not survive  | \n",
    "|  `Pclass` |  the class of seating the passenger was sitting in (in the header we can see 1 and 3, but we can look into this more) | \n",
    "| `Sex`  |  the gender of the passenger  | \n",
    "| `Age`  |  the age of the passenger  | \n",
    "| `SibSp`  |  number of siblings and spouses aboard  | \n",
    "| `Parch`  |  number of parents/children aboard  | \n",
    "|`Embarked`| where the passenger has embarked to/from (looks like there are three possibilities based on some Kaggle docs: C, Q, S)|\n",
    "\n",
    "\n",
    "It looks like the column names are already pretty clean - no spaces or strange characters or numbers at the beginning.  So, we will go ahead and keep moving ahead with the analysis to see where it takes us!"
   ]
  },
  {
   "cell_type": "code",
   "execution_count": 4,
   "metadata": {},
   "outputs": [
    {
     "data": {
      "text/plain": [
       "(891, 12)"
      ]
     },
     "execution_count": 4,
     "metadata": {},
     "output_type": "execute_result"
    }
   ],
   "source": [
    "df.shape #891 passengers with 12 variables"
   ]
  },
  {
   "cell_type": "code",
   "execution_count": 5,
   "metadata": {},
   "outputs": [
    {
     "data": {
      "text/html": [
       "<div>\n",
       "<style>\n",
       "    .dataframe thead tr:only-child th {\n",
       "        text-align: right;\n",
       "    }\n",
       "\n",
       "    .dataframe thead th {\n",
       "        text-align: left;\n",
       "    }\n",
       "\n",
       "    .dataframe tbody tr th {\n",
       "        vertical-align: top;\n",
       "    }\n",
       "</style>\n",
       "<table border=\"1\" class=\"dataframe\">\n",
       "  <thead>\n",
       "    <tr style=\"text-align: right;\">\n",
       "      <th></th>\n",
       "      <th>PassengerId</th>\n",
       "      <th>Survived</th>\n",
       "      <th>Pclass</th>\n",
       "      <th>Age</th>\n",
       "      <th>SibSp</th>\n",
       "      <th>Parch</th>\n",
       "      <th>Fare</th>\n",
       "    </tr>\n",
       "  </thead>\n",
       "  <tbody>\n",
       "    <tr>\n",
       "      <th>count</th>\n",
       "      <td>891.000000</td>\n",
       "      <td>891.000000</td>\n",
       "      <td>891.000000</td>\n",
       "      <td>714.000000</td>\n",
       "      <td>891.000000</td>\n",
       "      <td>891.000000</td>\n",
       "      <td>891.000000</td>\n",
       "    </tr>\n",
       "    <tr>\n",
       "      <th>mean</th>\n",
       "      <td>446.000000</td>\n",
       "      <td>0.383838</td>\n",
       "      <td>2.308642</td>\n",
       "      <td>29.699118</td>\n",
       "      <td>0.523008</td>\n",
       "      <td>0.381594</td>\n",
       "      <td>32.204208</td>\n",
       "    </tr>\n",
       "    <tr>\n",
       "      <th>std</th>\n",
       "      <td>257.353842</td>\n",
       "      <td>0.486592</td>\n",
       "      <td>0.836071</td>\n",
       "      <td>14.526497</td>\n",
       "      <td>1.102743</td>\n",
       "      <td>0.806057</td>\n",
       "      <td>49.693429</td>\n",
       "    </tr>\n",
       "    <tr>\n",
       "      <th>min</th>\n",
       "      <td>1.000000</td>\n",
       "      <td>0.000000</td>\n",
       "      <td>1.000000</td>\n",
       "      <td>0.420000</td>\n",
       "      <td>0.000000</td>\n",
       "      <td>0.000000</td>\n",
       "      <td>0.000000</td>\n",
       "    </tr>\n",
       "    <tr>\n",
       "      <th>25%</th>\n",
       "      <td>223.500000</td>\n",
       "      <td>0.000000</td>\n",
       "      <td>2.000000</td>\n",
       "      <td>20.125000</td>\n",
       "      <td>0.000000</td>\n",
       "      <td>0.000000</td>\n",
       "      <td>7.910400</td>\n",
       "    </tr>\n",
       "    <tr>\n",
       "      <th>50%</th>\n",
       "      <td>446.000000</td>\n",
       "      <td>0.000000</td>\n",
       "      <td>3.000000</td>\n",
       "      <td>28.000000</td>\n",
       "      <td>0.000000</td>\n",
       "      <td>0.000000</td>\n",
       "      <td>14.454200</td>\n",
       "    </tr>\n",
       "    <tr>\n",
       "      <th>75%</th>\n",
       "      <td>668.500000</td>\n",
       "      <td>1.000000</td>\n",
       "      <td>3.000000</td>\n",
       "      <td>38.000000</td>\n",
       "      <td>1.000000</td>\n",
       "      <td>0.000000</td>\n",
       "      <td>31.000000</td>\n",
       "    </tr>\n",
       "    <tr>\n",
       "      <th>max</th>\n",
       "      <td>891.000000</td>\n",
       "      <td>1.000000</td>\n",
       "      <td>3.000000</td>\n",
       "      <td>80.000000</td>\n",
       "      <td>8.000000</td>\n",
       "      <td>6.000000</td>\n",
       "      <td>512.329200</td>\n",
       "    </tr>\n",
       "  </tbody>\n",
       "</table>\n",
       "</div>"
      ],
      "text/plain": [
       "       PassengerId    Survived      Pclass         Age       SibSp  \\\n",
       "count   891.000000  891.000000  891.000000  714.000000  891.000000   \n",
       "mean    446.000000    0.383838    2.308642   29.699118    0.523008   \n",
       "std     257.353842    0.486592    0.836071   14.526497    1.102743   \n",
       "min       1.000000    0.000000    1.000000    0.420000    0.000000   \n",
       "25%     223.500000    0.000000    2.000000   20.125000    0.000000   \n",
       "50%     446.000000    0.000000    3.000000   28.000000    0.000000   \n",
       "75%     668.500000    1.000000    3.000000   38.000000    1.000000   \n",
       "max     891.000000    1.000000    3.000000   80.000000    8.000000   \n",
       "\n",
       "            Parch        Fare  \n",
       "count  891.000000  891.000000  \n",
       "mean     0.381594   32.204208  \n",
       "std      0.806057   49.693429  \n",
       "min      0.000000    0.000000  \n",
       "25%      0.000000    7.910400  \n",
       "50%      0.000000   14.454200  \n",
       "75%      0.000000   31.000000  \n",
       "max      6.000000  512.329200  "
      ]
     },
     "execution_count": 5,
     "metadata": {},
     "output_type": "execute_result"
    }
   ],
   "source": [
    "df.describe()"
   ]
  },
  {
   "cell_type": "markdown",
   "metadata": {},
   "source": [
    "### Scattered ideas of the above summary statistics\n",
    "\n",
    "Looks like there are some people with missing ages, but nothing looks too out of the ordinary here.  All the survivals are marked with either 0 or 1, the max number of siblings or spouses is 8, while most people seem to be traveling without family.  Additionally, the number of parents or children has a max of 6, but most people are traveling without these family members.  We can see the median fare price was just under 15, but the max someone paid is almost 40 times that - hopefully they were first class!!  It looks like the classes are from 1 to 3, where most are in 3rd.  I would imagine this to be the lowest class.  There are some babies on board, as well as someone at the age of 80!  Though most people appear to be between the ages of 20 and 40.  We can ignore the passengerid - it really isn't a numeric value.  It looks like only about 38% of individuals survived of the almost 900 aboard..."
   ]
  },
  {
   "cell_type": "markdown",
   "metadata": {},
   "source": [
    "### Not much cleaning to be done, but...\n",
    "\n",
    "Though the dataset is pretty clean, let's make dummy variables for `gender` and `embarked`.  This will make it easier to do certain types of analysis - we can also get quick summary stats and add them to the above table easily if we make them dummy variables!\n",
    "\n",
    "Additionally, there is a function that will help when we want to group our data based on whether or not the individuals survived.  You will see these two functions used on occasion below."
   ]
  },
  {
   "cell_type": "code",
   "execution_count": 6,
   "metadata": {
    "collapsed": true
   },
   "outputs": [],
   "source": [
    "def dummify(df, columns):\n",
    "    '''\n",
    "    INPUT:\n",
    "    df - the dataframe holding the columns you would like to create dummy variables for\n",
    "    columns - list of the column names of the columns you want dummies for\n",
    "    OUTPUT:\n",
    "    df - now with the necessary dummy columns 0-1 coded with the final variable alphabetically as 0 variable, and the original column removed\n",
    "    '''\n",
    "    for col in columns:\n",
    "        just_dummies = pd.get_dummies(df[col])\n",
    "        df = pd.concat([df, just_dummies], axis=1)      \n",
    "        df.drop([col, just_dummies.columns[-1]], inplace=True, axis=1)\n",
    "    return df\n",
    "\n",
    "def survival_group(data, col):\n",
    "    '''\n",
    "    data: a dataframe\n",
    "    col:  which column(s) to group the data by; \n",
    "          to group by more than 1 column, this arg should be a list\n",
    "    Returns: <float> proportion survived per group or subgroup\n",
    "    Usage example:\n",
    "        survival_group(df, 'Pclass')\n",
    "    '''\n",
    "    return data.groupby(col)['Survived'].sum()/data.groupby(col)['Survived'].count()\n"
   ]
  },
  {
   "cell_type": "markdown",
   "metadata": {},
   "source": [
    "Now that we have the above function, let's use it on the two columns we want to create dummy variables for:"
   ]
  },
  {
   "cell_type": "code",
   "execution_count": 7,
   "metadata": {},
   "outputs": [
    {
     "data": {
      "text/html": [
       "<div>\n",
       "<style>\n",
       "    .dataframe thead tr:only-child th {\n",
       "        text-align: right;\n",
       "    }\n",
       "\n",
       "    .dataframe thead th {\n",
       "        text-align: left;\n",
       "    }\n",
       "\n",
       "    .dataframe tbody tr th {\n",
       "        vertical-align: top;\n",
       "    }\n",
       "</style>\n",
       "<table border=\"1\" class=\"dataframe\">\n",
       "  <thead>\n",
       "    <tr style=\"text-align: right;\">\n",
       "      <th></th>\n",
       "      <th>PassengerId</th>\n",
       "      <th>Survived</th>\n",
       "      <th>Pclass</th>\n",
       "      <th>Age</th>\n",
       "      <th>SibSp</th>\n",
       "      <th>Parch</th>\n",
       "      <th>Fare</th>\n",
       "    </tr>\n",
       "  </thead>\n",
       "  <tbody>\n",
       "    <tr>\n",
       "      <th>count</th>\n",
       "      <td>891.000000</td>\n",
       "      <td>891.000000</td>\n",
       "      <td>891.000000</td>\n",
       "      <td>714.000000</td>\n",
       "      <td>891.000000</td>\n",
       "      <td>891.000000</td>\n",
       "      <td>891.000000</td>\n",
       "    </tr>\n",
       "    <tr>\n",
       "      <th>mean</th>\n",
       "      <td>446.000000</td>\n",
       "      <td>0.383838</td>\n",
       "      <td>2.308642</td>\n",
       "      <td>29.699118</td>\n",
       "      <td>0.523008</td>\n",
       "      <td>0.381594</td>\n",
       "      <td>32.204208</td>\n",
       "    </tr>\n",
       "    <tr>\n",
       "      <th>std</th>\n",
       "      <td>257.353842</td>\n",
       "      <td>0.486592</td>\n",
       "      <td>0.836071</td>\n",
       "      <td>14.526497</td>\n",
       "      <td>1.102743</td>\n",
       "      <td>0.806057</td>\n",
       "      <td>49.693429</td>\n",
       "    </tr>\n",
       "    <tr>\n",
       "      <th>min</th>\n",
       "      <td>1.000000</td>\n",
       "      <td>0.000000</td>\n",
       "      <td>1.000000</td>\n",
       "      <td>0.420000</td>\n",
       "      <td>0.000000</td>\n",
       "      <td>0.000000</td>\n",
       "      <td>0.000000</td>\n",
       "    </tr>\n",
       "    <tr>\n",
       "      <th>25%</th>\n",
       "      <td>223.500000</td>\n",
       "      <td>0.000000</td>\n",
       "      <td>2.000000</td>\n",
       "      <td>20.125000</td>\n",
       "      <td>0.000000</td>\n",
       "      <td>0.000000</td>\n",
       "      <td>7.910400</td>\n",
       "    </tr>\n",
       "    <tr>\n",
       "      <th>50%</th>\n",
       "      <td>446.000000</td>\n",
       "      <td>0.000000</td>\n",
       "      <td>3.000000</td>\n",
       "      <td>28.000000</td>\n",
       "      <td>0.000000</td>\n",
       "      <td>0.000000</td>\n",
       "      <td>14.454200</td>\n",
       "    </tr>\n",
       "    <tr>\n",
       "      <th>75%</th>\n",
       "      <td>668.500000</td>\n",
       "      <td>1.000000</td>\n",
       "      <td>3.000000</td>\n",
       "      <td>38.000000</td>\n",
       "      <td>1.000000</td>\n",
       "      <td>0.000000</td>\n",
       "      <td>31.000000</td>\n",
       "    </tr>\n",
       "    <tr>\n",
       "      <th>max</th>\n",
       "      <td>891.000000</td>\n",
       "      <td>1.000000</td>\n",
       "      <td>3.000000</td>\n",
       "      <td>80.000000</td>\n",
       "      <td>8.000000</td>\n",
       "      <td>6.000000</td>\n",
       "      <td>512.329200</td>\n",
       "    </tr>\n",
       "  </tbody>\n",
       "</table>\n",
       "</div>"
      ],
      "text/plain": [
       "       PassengerId    Survived      Pclass         Age       SibSp  \\\n",
       "count   891.000000  891.000000  891.000000  714.000000  891.000000   \n",
       "mean    446.000000    0.383838    2.308642   29.699118    0.523008   \n",
       "std     257.353842    0.486592    0.836071   14.526497    1.102743   \n",
       "min       1.000000    0.000000    1.000000    0.420000    0.000000   \n",
       "25%     223.500000    0.000000    2.000000   20.125000    0.000000   \n",
       "50%     446.000000    0.000000    3.000000   28.000000    0.000000   \n",
       "75%     668.500000    1.000000    3.000000   38.000000    1.000000   \n",
       "max     891.000000    1.000000    3.000000   80.000000    8.000000   \n",
       "\n",
       "            Parch        Fare  \n",
       "count  891.000000  891.000000  \n",
       "mean     0.381594   32.204208  \n",
       "std      0.806057   49.693429  \n",
       "min      0.000000    0.000000  \n",
       "25%      0.000000    7.910400  \n",
       "50%      0.000000   14.454200  \n",
       "75%      0.000000   31.000000  \n",
       "max      6.000000  512.329200  "
      ]
     },
     "execution_count": 7,
     "metadata": {},
     "output_type": "execute_result"
    }
   ],
   "source": [
    "df.describe()"
   ]
  },
  {
   "cell_type": "markdown",
   "metadata": {},
   "source": [
    "Looks like these new variables didn't have any missing data (NICE).  Additionally, a majority of our passengers were male (around 65%), and a majority of passengers are embarking `C`.  However, there is a reasonably even spread across the three destinations.  As a final cleaning step before we build some plots, let's create a column that keeps track of which rows have a missing `Age` - just in case that is important for later.  "
   ]
  },
  {
   "cell_type": "code",
   "execution_count": 8,
   "metadata": {
    "collapsed": true
   },
   "outputs": [],
   "source": [
    "df['AgeMissing'] = np.isnan(df['Age'])"
   ]
  },
  {
   "cell_type": "markdown",
   "metadata": {},
   "source": [
    "Just because I like to double check..."
   ]
  },
  {
   "cell_type": "code",
   "execution_count": 9,
   "metadata": {},
   "outputs": [
    {
     "data": {
      "text/plain": [
       "0.19865319865319866"
      ]
     },
     "execution_count": 9,
     "metadata": {},
     "output_type": "execute_result"
    }
   ],
   "source": [
    "df.AgeMissing.mean()"
   ]
  },
  {
   "cell_type": "code",
   "execution_count": 10,
   "metadata": {},
   "outputs": [
    {
     "data": {
      "text/plain": [
       "0.19865319865319864"
      ]
     },
     "execution_count": 10,
     "metadata": {},
     "output_type": "execute_result"
    }
   ],
   "source": [
    "1 - 714/891 #Looks right"
   ]
  },
  {
   "cell_type": "markdown",
   "metadata": {},
   "source": [
    "### Quick Sanity Check\n",
    "\n",
    "The below plot (although incredibly hard to read) serves as a reasonable sanity check that all of our data seems reasonable.  Although NaN values are dropped in these plots, we can make sure there aren't clusters of data in places we think are unreasonable - like if we saw almost everyone was between age 0 and 1 or something...  Everything looks pretty reasonable here.  All the dichotomous variables appear to be correctly labeled.  The quantitative variables are mostly right skewed.  The dummy variables we created look like they are showing up correctly.  Nothing crazy going on here."
   ]
  },
  {
   "cell_type": "code",
   "execution_count": 11,
   "metadata": {},
   "outputs": [
    {
     "data": {
      "image/png": "[encoded data removed]",
      "text/plain": [
       "<matplotlib.figure.Figure at 0x11724b630>"
      ]
     },
     "metadata": {},
     "output_type": "display_data"
    }
   ],
   "source": [
    "df.hist();"
   ]
  },
  {
   "cell_type": "markdown",
   "metadata": {},
   "source": [
    "### Is age associated with surviving?\n",
    "\n",
    "The below plot does suggest that younger individuals do seem more likely to live - particularly the super young.  We see this with the spike right away in the survival histogram.  **However, besides very young children seeming slightly more likely to survive, there does not appear to be an overwhelming association between age and survival.  **"
   ]
  },
  {
   "cell_type": "code",
   "execution_count": 12,
   "metadata": {},
   "outputs": [
    {
     "data": {
      "image/png": "[encoded data removed]",
      "text/plain": [
       "<matplotlib.figure.Figure at 0x11aa5df60>"
      ]
     },
     "metadata": {},
     "output_type": "display_data"
    }
   ],
   "source": [
    "bins = np.linspace(0, 100, 50)\n",
    "\n",
    "df.query('Survived == 0')['Age'].hist(bins=bins, alpha = .5, label = 'die');\n",
    "df.query('Survived == 1')['Age'].hist(bins=bins, alpha = .5, label = 'survive');\n",
    "plt.legend(loc='upper right')\n",
    "plt.title('Is passenger age associated with survival?');\n",
    "plt.xlabel('Age');\n",
    "plt.ylabel('Frequency');"
   ]
  },
  {
   "cell_type": "markdown",
   "metadata": {},
   "source": [
    "### Is the Fare Price Associated with Survival?\n",
    "\n",
    "It does appear that fare price is associated with survival.  The more you paid for your ticket, the more likely you were to live.  **Look at the huge spike associated with those who all paid a reasonably low price associated with death.  Where those who paid more than approximately 50 for their ticket appear to have lived in most cases.  Those who paid the lowest price all died...we can see this from the first blue histogram bar.**\n",
    "\n",
    "We might dig into this a bit more to see if those who were kids with a large fare price were more likely to survive than those who were kids with a lower fare price were less likely to survive.  The split of this would have to by somewhat arbitrary - what deems a fare price as large?  Maybe there are three categories?  Instead of trying to determine this cutoff ourself, we might just use the `class` variable that already exists in our dataset."
   ]
  },
  {
   "cell_type": "code",
   "execution_count": 13,
   "metadata": {},
   "outputs": [
    {
     "data": {
      "image/png": "[encoded data removed]",
      "text/plain": [
       "<matplotlib.figure.Figure at 0x11aba89e8>"
      ]
     },
     "metadata": {},
     "output_type": "display_data"
    }
   ],
   "source": [
    "bins = np.linspace(0, 100, 50)\n",
    "\n",
    "df.query('Survived == 0')['Fare'].hist(bins=bins, alpha = .5, label = 'die');\n",
    "df.query('Survived == 1')['Fare'].hist(bins=bins, alpha = .5, label = 'survive');\n",
    "plt.legend(loc='upper right')\n",
    "plt.title('Is passenger fare related to survival?');\n",
    "plt.xlabel('Fare Price');\n",
    "plt.ylabel('Frequency');"
   ]
  },
  {
   "cell_type": "markdown",
   "metadata": {},
   "source": [
    "### Is the class of a passenger associated with survival?\n",
    "\n",
    "All of the next analyses are to study survival based on gender and class.  The below plot shows this in an ideal way with a side by side bar chart.  ALl of the subsequent analyses are simply to numerically evaluate what is shown visually here."
   ]
  },
  {
   "cell_type": "code",
   "execution_count": 14,
   "metadata": {},
   "outputs": [
    {
     "data": {
      "image/png": "[encoded data removed]",
      "text/plain": [
       "<matplotlib.figure.Figure at 0x11ac7f208>"
      ]
     },
     "metadata": {},
     "output_type": "display_data"
    }
   ],
   "source": [
    "dfSP = survival_group(df, ['Sex','Pclass']).unstack()\n",
    "dfSP.plot(kind='bar', fontsize=12, title='Survival by Gender & Pclass').set_ylabel('Proportion Survived');"
   ]
  },
  {
   "cell_type": "code",
   "execution_count": 15,
   "metadata": {},
   "outputs": [
    {
     "data": {
      "text/plain": [
       "0.62962962962962965"
      ]
     },
     "execution_count": 15,
     "metadata": {},
     "output_type": "execute_result"
    }
   ],
   "source": [
    "df.query('Pclass == 1 and Survived == 1').count()['Survived']/df.query('Pclass == 1').count()['Survived']"
   ]
  },
  {
   "cell_type": "code",
   "execution_count": 16,
   "metadata": {},
   "outputs": [
    {
     "data": {
      "text/plain": [
       "0.47282608695652173"
      ]
     },
     "execution_count": 16,
     "metadata": {},
     "output_type": "execute_result"
    }
   ],
   "source": [
    "df.query('Pclass == 2 and Survived == 1').count()['Survived']/df.query('Pclass == 2').count()['Survived']"
   ]
  },
  {
   "cell_type": "code",
   "execution_count": 17,
   "metadata": {},
   "outputs": [
    {
     "data": {
      "text/plain": [
       "0.24236252545824846"
      ]
     },
     "execution_count": 17,
     "metadata": {},
     "output_type": "execute_result"
    }
   ],
   "source": [
    "df.query('Pclass == 3 and Survived == 1').count()['Survived']/df.query('Pclass == 3').count()['Survived']"
   ]
  },
  {
   "cell_type": "code",
   "execution_count": 18,
   "metadata": {},
   "outputs": [
    {
     "data": {
      "text/html": [
       "<div>\n",
       "<style>\n",
       "    .dataframe thead tr:only-child th {\n",
       "        text-align: right;\n",
       "    }\n",
       "\n",
       "    .dataframe thead th {\n",
       "        text-align: left;\n",
       "    }\n",
       "\n",
       "    .dataframe tbody tr th {\n",
       "        vertical-align: top;\n",
       "    }\n",
       "</style>\n",
       "<table border=\"1\" class=\"dataframe\">\n",
       "  <thead>\n",
       "    <tr style=\"text-align: right;\">\n",
       "      <th>Pclass</th>\n",
       "      <th>1</th>\n",
       "      <th>2</th>\n",
       "      <th>3</th>\n",
       "    </tr>\n",
       "    <tr>\n",
       "      <th>Survived</th>\n",
       "      <th></th>\n",
       "      <th></th>\n",
       "      <th></th>\n",
       "    </tr>\n",
       "  </thead>\n",
       "  <tbody>\n",
       "    <tr>\n",
       "      <th>0</th>\n",
       "      <td>80</td>\n",
       "      <td>97</td>\n",
       "      <td>372</td>\n",
       "    </tr>\n",
       "    <tr>\n",
       "      <th>1</th>\n",
       "      <td>136</td>\n",
       "      <td>87</td>\n",
       "      <td>119</td>\n",
       "    </tr>\n",
       "  </tbody>\n",
       "</table>\n",
       "</div>"
      ],
      "text/plain": [
       "Pclass      1   2    3\n",
       "Survived              \n",
       "0          80  97  372\n",
       "1         136  87  119"
      ]
     },
     "execution_count": 18,
     "metadata": {},
     "output_type": "execute_result"
    }
   ],
   "source": [
    "pd.crosstab(df['Survived'], df['Pclass'], rownames=['Survived'])"
   ]
  },
  {
   "cell_type": "markdown",
   "metadata": {},
   "source": [
    "A visual of the above summary is provided as a heatmap below.  You can see the dark purple in the top right shows that the 3rd class mostly earned a 0 in survival - this is bad news for those passengers.  Where the light color in the top left shows that the 1st class passengers had much fewer deaths.  "
   ]
  },
  {
   "cell_type": "markdown",
   "metadata": {},
   "source": [
    "**Specifically, we can see that approximately 63% of all first class passengers survived. Only 47% of the second class passengers survived.  Finally, only 24% of the third class class passengers survived. ** \n",
    "\n",
    "### Is Gender Associated with survival?  And further is there a relationship between all of age, gender, and class?  I would imagine the young, first class passengers would be most likely to survive, regardless of gender.  Maybe a close next group of survivors would be first and/or second class females who are younger than a certain threshold?\n",
    "\n",
    "As we start getting into these higher interactions of variables, it might be better to look at some sort of regression model to determine the relationship...We could also try a more sophisticated machine learning technique that might take care of looking at all of these interactions without us having to do too much work."
   ]
  },
  {
   "cell_type": "code",
   "execution_count": 19,
   "metadata": {},
   "outputs": [
    {
     "data": {
      "text/plain": [
       "0.18890814558058924"
      ]
     },
     "execution_count": 19,
     "metadata": {},
     "output_type": "execute_result"
    }
   ],
   "source": [
    "df = dummify(df, [\"Sex\", \"Embarked\"])\n",
    "df.query('female == 0 and Survived == 1').count()['Survived']/df.query('female == 0').count()['Survived']"
   ]
  },
  {
   "cell_type": "code",
   "execution_count": 20,
   "metadata": {},
   "outputs": [
    {
     "data": {
      "text/plain": [
       "0.7420382165605095"
      ]
     },
     "execution_count": 20,
     "metadata": {},
     "output_type": "execute_result"
    }
   ],
   "source": [
    "df.query('female == 1 and Survived == 1').count()['Survived']/df.query('female == 1').count()['Survived']"
   ]
  },
  {
   "cell_type": "code",
   "execution_count": 21,
   "metadata": {},
   "outputs": [
    {
     "data": {
      "text/html": [
       "<div>\n",
       "<style>\n",
       "    .dataframe thead tr:only-child th {\n",
       "        text-align: right;\n",
       "    }\n",
       "\n",
       "    .dataframe thead th {\n",
       "        text-align: left;\n",
       "    }\n",
       "\n",
       "    .dataframe tbody tr th {\n",
       "        vertical-align: top;\n",
       "    }\n",
       "</style>\n",
       "<table border=\"1\" class=\"dataframe\">\n",
       "  <thead>\n",
       "    <tr style=\"text-align: right;\">\n",
       "      <th>female</th>\n",
       "      <th>0</th>\n",
       "      <th>1</th>\n",
       "    </tr>\n",
       "    <tr>\n",
       "      <th>Survived</th>\n",
       "      <th></th>\n",
       "      <th></th>\n",
       "    </tr>\n",
       "  </thead>\n",
       "  <tbody>\n",
       "    <tr>\n",
       "      <th>0</th>\n",
       "      <td>468</td>\n",
       "      <td>81</td>\n",
       "    </tr>\n",
       "    <tr>\n",
       "      <th>1</th>\n",
       "      <td>109</td>\n",
       "      <td>233</td>\n",
       "    </tr>\n",
       "  </tbody>\n",
       "</table>\n",
       "</div>"
      ],
      "text/plain": [
       "female      0    1\n",
       "Survived          \n",
       "0         468   81\n",
       "1         109  233"
      ]
     },
     "execution_count": 21,
     "metadata": {},
     "output_type": "execute_result"
    }
   ],
   "source": [
    "pd.crosstab(df['Survived'], df['female'], rownames=['Survived'])"
   ]
  },
  {
   "cell_type": "markdown",
   "metadata": {},
   "source": [
    "**Less than 20% of the males survived, while nearly 75% of the female passengers survived.**"
   ]
  },
  {
   "cell_type": "markdown",
   "metadata": {},
   "source": [
    "### We Found Some Associations... \n",
    "\n",
    "Let's see how we can do at predicting survival based on the possible predictor variables.  The easiest way to do this, while also retaining the ability to understand the impact of individual variables in a fairly straightforward way.  First, let's import the necessary library, and add an intercept to our dataframe.  Additionally, I will add some interaction variables to see if our model suggests these are 'significant' for predicting survival.  Also, we had a few missing age values.  Here will fill those, as our model will drop those columns otherwise.  Since age wasn't greatly associated, hopefully this won't have too much of an impact.  I always feel icky about inputting missing values."
   ]
  },
  {
   "cell_type": "code",
   "execution_count": 22,
   "metadata": {},
   "outputs": [
    {
     "name": "stderr",
     "output_type": "stream",
     "text": [
      "/Users/joshuabernhard/anaconda3/lib/python3.6/site-packages/statsmodels/compat/pandas.py:56: FutureWarning: The pandas.core.datetools module is deprecated and will be removed in a future version. Please use the pandas.tseries module instead.\n",
      "  from pandas.core import datetools\n"
     ]
    }
   ],
   "source": [
    "import statsmodels.api as sm\n",
    "\n",
    "df['intercept'] = 1; # add intercept\n",
    "df['Age'] = df['Age'].fillna(df['Age'].mean()) # fill NA values for age\n",
    "df['age_gend'] = df['Age']*df['female'] # interaction between age and gender\n",
    "df['age_class'] = df['Age']*df['Pclass'] # interaction between class and age\n",
    "df['class_gend'] = df['Pclass']*df['female'] # interaction between class and gender\n",
    "df['age_gend_class'] = df['class_gend']*df['Age'] # interaction between class, gender, and age"
   ]
  },
  {
   "cell_type": "markdown",
   "metadata": {},
   "source": [
    "Now that we have created all of the interaction variables, replaced the missing values in the age variable, and added an intercept; we can create our explanatory matrix and our response vector."
   ]
  },
  {
   "cell_type": "code",
   "execution_count": 23,
   "metadata": {
    "collapsed": true
   },
   "outputs": [],
   "source": [
    "y, X = df['Survived'], df[['intercept','Pclass', 'Age', 'SibSp', 'Parch', 'Fare', 'female', 'C', 'Q', 'age_gend', 'age_class', 'class_gend', 'age_gend_class']]"
   ]
  },
  {
   "cell_type": "code",
   "execution_count": 24,
   "metadata": {
    "collapsed": true
   },
   "outputs": [],
   "source": [
    "mod = sm.Logit(y, X) # instantiate our model with our X and y created above"
   ]
  },
  {
   "cell_type": "code",
   "execution_count": 25,
   "metadata": {},
   "outputs": [
    {
     "name": "stdout",
     "output_type": "stream",
     "text": [
      "Optimization terminated successfully.\n",
      "         Current function value: 0.422121\n",
      "         Iterations 8\n"
     ]
    }
   ],
   "source": [
    "results = mod.fit() # fit the model"
   ]
  },
  {
   "cell_type": "markdown",
   "metadata": {},
   "source": [
    "Before I trust the results of any model, I like to see how well the model performs.  In our case, our model is meh... It isn't terrible, but our results are in no way outstanding.  Below is a table that shows the results of comparing our predictions on the data to a model that was fit using ALL of the data.  Let's go through what these results mean. \n",
    "\n",
    "An ideal case would be for all of our values to live in the top left and the bottom right corners of the below grid.  **The top left are the individuals who did not survive, and were correctly labeled as not surviving (nearly 500 of them).**  Alternatively, the 50 represents the individuals who did not survive that our model labeld as surviving.\n",
    "\n",
    "In the second row the 230 represents **individuals who survived who were correctly labeled by our model as surviving.** Alternatively, the 112 represents the individuals who were incorrectly labeled. These individuals survived, but were labeled as non-survivors by our model.\n",
    " \n",
    "|   |            |Predicted|        |\n",
    "|:-:|:----------:|:-------:|:------:|\n",
    "|   |            | Die     | Survive|\n",
    "|**Truth** | Die | 499     | 50     |  \n",
    "|   | Survive    | 112     | 230    |\n",
    "\n",
    "From this, we can see that our model correctly identifies 729 individuals, while incorrectly classifying 162 individuals.  Really, this would pretty good if the model was fit on "
   ]
  },
  {
   "cell_type": "code",
   "execution_count": 26,
   "metadata": {},
   "outputs": [
    {
     "data": {
      "text/plain": [
       "array([[ 499.,   50.],\n",
       "       [ 112.,  230.]])"
      ]
     },
     "execution_count": 26,
     "metadata": {},
     "output_type": "execute_result"
    }
   ],
   "source": [
    "results.pred_table()"
   ]
  },
  {
   "cell_type": "markdown",
   "metadata": {},
   "source": [
    "Anyhow, let's jump into the specific coefficients to see what looks to be associated with survival."
   ]
  },
  {
   "cell_type": "code",
   "execution_count": 27,
   "metadata": {},
   "outputs": [
    {
     "data": {
      "text/html": [
       "<table class=\"simpletable\">\n",
       "<tr>\n",
       "        <td>Model:</td>              <td>Logit</td>      <td>Pseudo R-squared:</td>    <td>0.366</td>  \n",
       "</tr>\n",
       "<tr>\n",
       "  <td>Dependent Variable:</td>     <td>Survived</td>           <td>AIC:</td>         <td>778.2203</td> \n",
       "</tr>\n",
       "<tr>\n",
       "         <td>Date:</td>        <td>2017-08-01 09:52</td>       <td>BIC:</td>         <td>840.5208</td> \n",
       "</tr>\n",
       "<tr>\n",
       "   <td>No. Observations:</td>         <td>891</td>        <td>Log-Likelihood:</td>    <td>-376.11</td> \n",
       "</tr>\n",
       "<tr>\n",
       "       <td>Df Model:</td>             <td>12</td>            <td>LL-Null:</td>        <td>-593.33</td> \n",
       "</tr>\n",
       "<tr>\n",
       "     <td>Df Residuals:</td>           <td>878</td>         <td>LLR p-value:</td>    <td>1.9012e-85</td>\n",
       "</tr>\n",
       "<tr>\n",
       "      <td>Converged:</td>           <td>1.0000</td>           <td>Scale:</td>         <td>1.0000</td>  \n",
       "</tr>\n",
       "<tr>\n",
       "    <td>No. Iterations:</td>        <td>8.0000</td>              <td></td>               <td></td>     \n",
       "</tr>\n",
       "</table>\n",
       "<table class=\"simpletable\">\n",
       "<tr>\n",
       "         <td></td>         <th>Coef.</th>  <th>Std.Err.</th>    <th>z</th>     <th>P>|z|</th> <th>[0.025</th>  <th>0.975]</th> \n",
       "</tr>\n",
       "<tr>\n",
       "  <th>intercept</th>      <td>0.6081</td>   <td>0.8676</td>  <td>0.7009</td>  <td>0.4834</td> <td>-1.0924</td> <td>2.3086</td> \n",
       "</tr>\n",
       "<tr>\n",
       "  <th>Pclass</th>         <td>-0.1531</td>  <td>0.3756</td>  <td>-0.4077</td> <td>0.6835</td> <td>-0.8894</td> <td>0.5831</td> \n",
       "</tr>\n",
       "<tr>\n",
       "  <th>Age</th>            <td>-0.0084</td>  <td>0.0228</td>  <td>-0.3680</td> <td>0.7129</td> <td>-0.0531</td> <td>0.0363</td> \n",
       "</tr>\n",
       "<tr>\n",
       "  <th>SibSp</th>          <td>-0.3538</td>  <td>0.1134</td>  <td>-3.1200</td> <td>0.0018</td> <td>-0.5760</td> <td>-0.1315</td>\n",
       "</tr>\n",
       "<tr>\n",
       "  <th>Parch</th>          <td>-0.0685</td>  <td>0.1251</td>  <td>-0.5472</td> <td>0.5842</td> <td>-0.3137</td> <td>0.1767</td> \n",
       "</tr>\n",
       "<tr>\n",
       "  <th>Fare</th>           <td>0.0015</td>   <td>0.0025</td>  <td>0.6122</td>  <td>0.5404</td> <td>-0.0033</td> <td>0.0063</td> \n",
       "</tr>\n",
       "<tr>\n",
       "  <th>female</th>         <td>5.0097</td>   <td>2.3921</td>  <td>2.0943</td>  <td>0.0362</td> <td>0.3213</td>  <td>9.6980</td> \n",
       "</tr>\n",
       "<tr>\n",
       "  <th>C</th>              <td>0.5135</td>   <td>0.2431</td>  <td>2.1120</td>  <td>0.0347</td> <td>0.0370</td>  <td>0.9901</td> \n",
       "</tr>\n",
       "<tr>\n",
       "  <th>Q</th>              <td>0.5682</td>   <td>0.3175</td>  <td>1.7897</td>  <td>0.0735</td> <td>-0.0541</td> <td>1.1905</td> \n",
       "</tr>\n",
       "<tr>\n",
       "  <th>age_gend</th>       <td>0.0310</td>   <td>0.0714</td>  <td>0.4340</td>  <td>0.6643</td> <td>-0.1090</td> <td>0.1709</td> \n",
       "</tr>\n",
       "<tr>\n",
       "  <th>age_class</th>      <td>-0.0245</td>  <td>0.0118</td>  <td>-2.0821</td> <td>0.0373</td> <td>-0.0475</td> <td>-0.0014</td>\n",
       "</tr>\n",
       "<tr>\n",
       "  <th>class_gend</th>     <td>-1.4238</td>  <td>0.8738</td>  <td>-1.6295</td> <td>0.1032</td> <td>-3.1364</td> <td>0.2888</td> \n",
       "</tr>\n",
       "<tr>\n",
       "  <th>age_gend_class</th> <td>0.0069</td>   <td>0.0273</td>  <td>0.2520</td>  <td>0.8010</td> <td>-0.0467</td> <td>0.0605</td> \n",
       "</tr>\n",
       "</table>"
      ],
      "text/plain": [
       "<class 'statsmodels.iolib.summary2.Summary'>\n",
       "\"\"\"\n",
       "                         Results: Logit\n",
       "=================================================================\n",
       "Model:              Logit            Pseudo R-squared: 0.366     \n",
       "Dependent Variable: Survived         AIC:              778.2203  \n",
       "Date:               2017-08-01 09:52 BIC:              840.5208  \n",
       "No. Observations:   891              Log-Likelihood:   -376.11   \n",
       "Df Model:           12               LL-Null:          -593.33   \n",
       "Df Residuals:       878              LLR p-value:      1.9012e-85\n",
       "Converged:          1.0000           Scale:            1.0000    \n",
       "No. Iterations:     8.0000                                       \n",
       "-----------------------------------------------------------------\n",
       "                   Coef.  Std.Err.    z    P>|z|   [0.025  0.975]\n",
       "-----------------------------------------------------------------\n",
       "intercept          0.6081   0.8676  0.7009 0.4834 -1.0924  2.3086\n",
       "Pclass            -0.1531   0.3756 -0.4077 0.6835 -0.8894  0.5831\n",
       "Age               -0.0084   0.0228 -0.3680 0.7129 -0.0531  0.0363\n",
       "SibSp             -0.3538   0.1134 -3.1200 0.0018 -0.5760 -0.1315\n",
       "Parch             -0.0685   0.1251 -0.5472 0.5842 -0.3137  0.1767\n",
       "Fare               0.0015   0.0025  0.6122 0.5404 -0.0033  0.0063\n",
       "female             5.0097   2.3921  2.0943 0.0362  0.3213  9.6980\n",
       "C                  0.5135   0.2431  2.1120 0.0347  0.0370  0.9901\n",
       "Q                  0.5682   0.3175  1.7897 0.0735 -0.0541  1.1905\n",
       "age_gend           0.0310   0.0714  0.4340 0.6643 -0.1090  0.1709\n",
       "age_class         -0.0245   0.0118 -2.0821 0.0373 -0.0475 -0.0014\n",
       "class_gend        -1.4238   0.8738 -1.6295 0.1032 -3.1364  0.2888\n",
       "age_gend_class     0.0069   0.0273  0.2520 0.8010 -0.0467  0.0605\n",
       "=================================================================\n",
       "\n",
       "\"\"\""
      ]
     },
     "execution_count": 27,
     "metadata": {},
     "output_type": "execute_result"
    }
   ],
   "source": [
    "results.summary2()"
   ]
  },
  {
   "cell_type": "markdown",
   "metadata": {},
   "source": [
    "### Results Summary Walk Through\n",
    "\n",
    "So, we could talk about likelihoods, but seriously calculus - what is this high school?  So, instead let's look at the column that looks like **P>|z|** - oh wait, this is calculus too.  Integrating some stuff!  In any case, this column can provide us the probability of observing our resulting coefficient estimate from the data if there actually is a 0 coefficient.  Usual cutoffs that suggest significance are at 0.05 or 0.01 for medical purposes.  Based on our results, we have statistically significant evidence to suggest a relationship exists between survival and:\n",
    "\n",
    "1. **SibSp** - Remember this was the siblings/spouses.  There is evidence to suggest that the more siblings and spouses an individual has aboard, the less likely they are to survive.\n",
    "\n",
    "2. **Gender** - As we saw earlier, females appear to be MUCH more likely to survive than males.  This seems to be the largest indicator of survival given the magnitude of its coefficient.\n",
    "\n",
    "3. **Embarked C** - Individuals embarking from C are more likely to survive than those that embarked from S.\n",
    "\n",
    "4. **Age Class Interaction** - Though neither age nor class was significantly related.  The interaction of these two variables does appear to have a significant relation with survival.  The size of the coefficient is not large enough to mean too much, but it is statistically significant.\n",
    "\n",
    "Given the small size of many of these coefficients, I imagine running some sort of Ridge, Lasso, or Elastic Net might remove most of these with even a reasonably small weight.  \n",
    "\n",
    "\n",
    "### Interpret the Coefficients\n",
    "\n",
    "In order to interpret the coefficients in a logistic regression model, we need to exponentiate them.  Then I find it easier to interpret those that are less than one by taking the reciprical.  Let's see how this works.  Here is the exponential of all the coefficients we marked as significant.  "
   ]
  },
  {
   "cell_type": "code",
   "execution_count": 28,
   "metadata": {},
   "outputs": [
    {
     "data": {
      "text/plain": [
       "SibSp          0.702042\n",
       "female       149.854257\n",
       "C              1.671147\n",
       "age_class      0.975822\n",
       "dtype: float64"
      ]
     },
     "execution_count": 28,
     "metadata": {},
     "output_type": "execute_result"
    }
   ],
   "source": [
    "np.exp(results.params)[['SibSp', 'female', 'C', 'age_class']] "
   ]
  },
  {
   "cell_type": "markdown",
   "metadata": {},
   "source": [
    "We have two that are less that are below 1, so we will take the reciprical of these.  "
   ]
  },
  {
   "cell_type": "code",
   "execution_count": 29,
   "metadata": {},
   "outputs": [
    {
     "data": {
      "text/plain": [
       "SibSp        1.424417\n",
       "age_class    1.024777\n",
       "dtype: float64"
      ]
     },
     "execution_count": 29,
     "metadata": {},
     "output_type": "execute_result"
    }
   ],
   "source": [
    "1/np.exp(results.params)[['SibSp', 'age_class']] "
   ]
  },
  {
   "cell_type": "markdown",
   "metadata": {},
   "source": [
    "Now we can interpret these in the following way:\n",
    "\n",
    "Being female means that the odds of survival are nearly 150 times the odds of survival for a male, holding all other model variables constant.\n",
    "\n",
    "Additionally, for each fewer sibling or spouse onboard your likelihood of surviving are 1.42 times those with the additional sibling/spouse, holding all other model variables constant.  \n",
    "\n",
    "The interaction variable isn't exactly 'nicely' interpretable here - interactions are always a bit tricky.  With more effort, we could gain some insight into what is happening with the interaction, but it's a small coefficient - I am not sure it is worth the effort.  The 'C' coefficient essentially tells us these individuals are more likely to survive than the 'S' individuals."
   ]
  },
  {
   "cell_type": "markdown",
   "metadata": {},
   "source": [
    "### Conclusions\n",
    "\n",
    "In this project, we looked at a number of parts to analyzing data that are essential to any data analysts skill set.  We dealt with data cleaning in a few ways:\n",
    "\n",
    "1. Adding dummy variables.\n",
    "2. Filling in missing values (or at least working with missing values)\n",
    "\n",
    "There are potential shortcomings based on the interpretations we want to make based on this coding - which a 1, -1 coding might have provided. Additionally, filling in missing values always leads to potential issues with an analysis.  Moving all of our predictions towards the mean, as opposed to finding what differentiates these rows to better predict whether an individual will survive or not.  We could have filled in the ages based on what a text title suggests or based on a regression model to fit the ages...  That would have likely been better than the current method I am using, but also would have required more effort.\n",
    "\n",
    "We also looked at the relationships of many variables with the chance of survival.  We found that the most associated factor to survival was gender.  Although class and age together appeared to also associate with survival - likely younger and higher classes based on our exploratory analysis at the beginning.  The number of spouses and siblings also appeared to be associated with survival.  Having these members aboard meant that an individual was less likely to survive.  The final characteristic with some association was `Embarked`, who would have guessed.  These last two columns that showed some relevence were variables I wouldn't have guessed to be associated with survival, but that is why we have a need for data at all.  \n",
    "\n",
    "**None** of these statements are statements of **causation**.  We simply have association here.  In order to prove cause and effect relationships, we would need a well designed experiment where we can control for all confounding factors. \n",
    "\n",
    "As a final step in this analysis - if I wanted to predict survivors of a future sinking ship, I would cross-validate a strong machine learning technique.  We could then come up with a model that could be let out into the wild to predict survivorship of future cruise ships."
   ]
  },
  {
   "cell_type": "code",
   "execution_count": null,
   "metadata": {
    "collapsed": true
   },
   "outputs": [],
   "source": []
  }
 ],
 "metadata": {
  "kernelspec": {
   "display_name": "Python 3",
   "language": "python",
   "name": "python3"
  },
  "language_info": {
   "codemirror_mode": {
    "name": "ipython",
    "version": 3
   },
   "file_extension": ".py",
   "mimetype": "text/x-python",
   "name": "python",
   "nbconvert_exporter": "python",
   "pygments_lexer": "ipython3",
   "version": "3.6.1"
  }
 },
 "nbformat": 4,
 "nbformat_minor": 2
}
